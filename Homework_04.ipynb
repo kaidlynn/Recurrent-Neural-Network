{
  "nbformat": 4,
  "nbformat_minor": 0,
  "metadata": {
    "colab": {
      "name": "Homework_04.ipynb",
      "provenance": [],
      "collapsed_sections": []
    },
    "coursera": {
      "course_slug": "neural-networks-deep-learning",
      "graded_item_id": "XaIWT",
      "launcher_item_id": "zAgPl"
    },
    "kernelspec": {
      "display_name": "Python 3",
      "language": "python",
      "name": "python3"
    },
    "language_info": {
      "codemirror_mode": {
        "name": "ipython",
        "version": 3
      },
      "file_extension": ".py",
      "mimetype": "text/x-python",
      "name": "python",
      "nbconvert_exporter": "python",
      "pygments_lexer": "ipython3",
      "version": "3.8.3"
    }
  },
  "cells": [
    {
      "cell_type": "markdown",
      "metadata": {
        "id": "1LwvvMtG18SK"
      },
      "source": [
        "# Recurrent Neural Network Homework\n",
        "\n",
        "This is the 4th assignment for CAP 4630 and we will implement a basic RNN network and an LSTM network with Keras to solve two problems. \\\n",
        "You will use **\"Tasks\"** and **\"Hints\"** to finish the work. **(Total points 85, plus 15 bonus points)** \\\n",
        "You may use Machine Learning libaries like Scikit-learn for data preprocessing.\n",
        "\n",
        "**Task Overview:**\n",
        "- Implement a basic RNN network to solve time series prediction \n",
        "- Implement an LSTM network to conduct sentiment analysis"
      ]
    },
    {
      "cell_type": "markdown",
      "metadata": {
        "id": "l24oSrIK18SL"
      },
      "source": [
        "## 1 - Implement Basic RNN network with Keras to predict time series##\n",
        "### 1.1 Prepare the data (17 Points)\n",
        "\n",
        "Prepare time series data for deep neural network training.\n",
        "\n",
        "**Tasks:**\n",
        "1. Load the given train and test data: \"train.txt\" and \"test.txt\". **(5 Points)**\n",
        "2. Generate the **TRAIN** and **TEST** labels. **(5 Points)**\n",
        "2. Normalize the **TRAIN** and **TEST** data with sklearn function \"MinMaxScaler\". **(5 Points)**\n",
        "3. Print out the **TEST** data and label. **(2 Points)**\n",
        "\n",
        "**Hints:**  \n",
        "1. The length of original train data is 113 which starts from **\"1949-01\"** to **\"1958-05\"**. The length of original test data is 29, which starts from **\"1958-07\"** to **\"1960-11\"**. \n",
        "2. Set the data types of both train and test data to \"float32\". \n",
        "3. When you prepared input data X (sequences) and oupt data Y (labels), please consider the following relationship:\n",
        "    - The sequence X should be the **past 12** datapoints in the time series, i.e., observation sequence with historical window of 12. You may check the time series data and think about the reason.\n",
        "    - The label Y should be the **next 1** datapoint in the time series (one point ahead prediction).\n",
        "4. The first 3 train data and label should be:\n",
        "\n",
        "trainX[0] = [[0.5801282 &nbsp; 0.625 &nbsp; 0.30128205 &nbsp;0.15705132 &nbsp;0. &nbsp; 0.08653843 &nbsp; 0.16025639 &nbsp; 0.1025641 &nbsp; 0.3076923 &nbsp; 0.27564108 &nbsp;0.3525641 &nbsp; 0.5192307]]\\\n",
        "trainY[0] = [0.7628205]\n",
        "\n",
        "trainX[1] = [[0.625   &nbsp;   0.30128205&nbsp; 0.15705132&nbsp; 0.   &nbsp;      0.08653843 &nbsp;0.16025639&nbsp; 0.1025641 &nbsp; 0. &nbsp;3076923&nbsp; 0.27564108 &nbsp;0.3525641&nbsp;  0.5192307&nbsp;  0.7628205 ]]\\\n",
        "trainY[1] = [0.798077]\n",
        "\n",
        "trainX[2] =  [[0.30128205 &nbsp; 0.15705132 &nbsp; 0.   &nbsp;   0.&nbsp; 08653843&nbsp;0.16025639&nbsp;0.1025641 &nbsp; 0.3076923 &nbsp;0.27564108 &nbsp;0.3525641 &nbsp; 0.5192307 &nbsp;0.7628205 &nbsp; 0.798077]]\\\n",
        "trainY[2] = [0.49038458]\n",
        "\n",
        "5. Apply the MinMaxScaler to both the train and test data.\\\n",
        "https://scikit-learn.org/stable/modules/generated/sklearn.preprocessing.MinMaxScaler.html\n",
        "\n",
        "\n",
        "6. After the preparation with scaler fitting, the shapes of trainX, trainY, testX, and testY are as follows:\\\n",
        "trainX.shape = (101, 1, 12)\\\n",
        "trainY.shape = (101,)\\\n",
        "testX.shape = (17, 1, 12)\\\n",
        "testY.shape = (17,)"
      ]
    },
    {
      "cell_type": "code",
      "metadata": {
        "id": "hS7xhrC3-_-1"
      },
      "source": [
        "### Import Libraries ###\n",
        "\n",
        "import tensorflow as tf\n",
        "import tensorflow.keras as keras\n",
        "import tensorflow.keras.layers \n",
        "import random\n",
        "import numpy as np\n",
        "\n",
        "### Set random seed to ensure deterministic results\n",
        "import os\n",
        "seed_value = 1\n",
        "os.environ['PYTHONHASHSEED']=str(seed_value)\n",
        "def reset_random_seeds():\n",
        "   tf.random.set_seed(seed_value)\n",
        "   np.random.seed(seed_value)\n",
        "   random.seed(seed_value)\n",
        "reset_random_seeds()"
      ],
      "execution_count": null,
      "outputs": []
    },
    {
      "cell_type": "code",
      "metadata": {
        "id": "shAj2Y6IuxUv"
      },
      "source": [
        "### Prepare and Preprocess Data Here ###\n",
        "\n",
        "from pandas import read_csv\n",
        "\n",
        "### Design a Function to Prepare Observation Sequences and Corresponding Labels ###\n",
        "\n",
        "def create_dataset(dataset, look_back=12): # look_back is used to specify input sequence length\n",
        "    dataX, dataY = [], []\n",
        "    for i in range(len(dataset)-look_back):\n",
        "        dataX.append(dataset[i:(i + look_back), 0]) # make sure correct start and end elements\n",
        "        dataY.append(dataset[i + look_back, 0]) # make sure correct start and end elements; here, we have only one point ahead for prediction\n",
        "    return np.array(dataX), np.array(dataY)\n",
        "\n",
        "\n",
        "### Train and Test Data Loading with float32 type ####\n",
        "\n",
        "dataframe_test = read_csv('test.txt', usecols=[1])\n",
        "dataset_test = dataframe_test.values\n",
        "dataset_test = dataset_test.astype('float32')\n",
        "\n",
        "dataframe_train = read_csv('train.txt', usecols=[1])\n",
        "dataset_train = dataframe_train.values\n",
        "dataset_train = dataset_train.astype('float32')\n",
        "\n",
        "\n",
        "\n"
      ],
      "execution_count": null,
      "outputs": []
    },
    {
      "cell_type": "code",
      "metadata": {
        "id": "O8MlgYTvvIeD"
      },
      "source": [
        "from sklearn.preprocessing import MinMaxScaler\n",
        "\n",
        "### Scale Training and Test Data to [0, 1] ###\n",
        "\n",
        "scaler = MinMaxScaler(feature_range=(0, 1)) # specify the scaler\n",
        "train = scaler.fit_transform(dataset_train) # fit the scaler to the training data\n",
        "test = scaler.fit_transform(dataset_test) # fit the scaler to the test data\n"
      ],
      "execution_count": null,
      "outputs": []
    },
    {
      "cell_type": "code",
      "metadata": {
        "id": "41A_Xu7MGrzO"
      },
      "source": [
        "### Train and Test Data Split\n",
        "\n",
        "trainX, trainY = create_dataset(train, look_back=12) # historical window is 12; future window is 1.\n",
        "testX, testY = create_dataset(test, look_back=12)\n",
        "\n",
        "### Train and Test Data Reshape (to fit RNN input)\n",
        "\n",
        "trainX = np.reshape(trainX, (trainX.shape[0], 1, trainX.shape[1])) \n",
        "testX = np.reshape(testX, (testX.shape[0], 1, testX.shape[1]))"
      ],
      "execution_count": null,
      "outputs": []
    },
    {
      "cell_type": "code",
      "metadata": {
        "id": "AQ1uHWzX8wlH",
        "colab": {
          "base_uri": "https://localhost:8080/"
        },
        "outputId": "6fb8429a-2466-48cf-9316-48f3b96bb48d"
      },
      "source": [
        "# print out the test data and label here\n",
        "\n",
        "print(testX)\n",
        "print(testY)\n"
      ],
      "execution_count": null,
      "outputs": [
        {
          "output_type": "stream",
          "text": [
            "[[[0.5801282  0.625      0.30128205 0.15705132 0.         0.08653843\n",
            "   0.16025639 0.1025641  0.3076923  0.27564108 0.3525641  0.5192307 ]]\n",
            "\n",
            " [[0.625      0.30128205 0.15705132 0.         0.08653843 0.16025639\n",
            "   0.1025641  0.3076923  0.27564108 0.3525641  0.5192307  0.7628205 ]]\n",
            "\n",
            " [[0.30128205 0.15705132 0.         0.08653843 0.16025639 0.1025641\n",
            "   0.3076923  0.27564108 0.3525641  0.5192307  0.7628205  0.798077  ]]\n",
            "\n",
            " [[0.15705132 0.         0.08653843 0.16025639 0.1025641  0.3076923\n",
            "   0.27564108 0.3525641  0.5192307  0.7628205  0.798077   0.49038458]]\n",
            "\n",
            " [[0.         0.08653843 0.16025639 0.1025641  0.3076923  0.27564108\n",
            "   0.3525641  0.5192307  0.7628205  0.798077   0.49038458 0.31089747]]\n",
            "\n",
            " [[0.08653843 0.16025639 0.1025641  0.3076923  0.27564108 0.3525641\n",
            "   0.5192307  0.7628205  0.798077   0.49038458 0.31089747 0.16666663]]\n",
            "\n",
            " [[0.16025639 0.1025641  0.3076923  0.27564108 0.3525641  0.5192307\n",
            "   0.7628205  0.798077   0.49038458 0.31089747 0.16666663 0.30448723]]\n",
            "\n",
            " [[0.1025641  0.3076923  0.27564108 0.3525641  0.5192307  0.7628205\n",
            "   0.798077   0.49038458 0.31089747 0.16666663 0.30448723 0.34294868]]\n",
            "\n",
            " [[0.3076923  0.27564108 0.3525641  0.5192307  0.7628205  0.798077\n",
            "   0.49038458 0.31089747 0.16666663 0.30448723 0.34294868 0.25961542]]\n",
            "\n",
            " [[0.27564108 0.3525641  0.5192307  0.7628205  0.798077   0.49038458\n",
            "   0.31089747 0.16666663 0.30448723 0.34294868 0.25961542 0.34935904]]\n",
            "\n",
            " [[0.3525641  0.5192307  0.7628205  0.798077   0.49038458 0.31089747\n",
            "   0.16666663 0.30448723 0.34294868 0.25961542 0.34935904 0.48397434]]\n",
            "\n",
            " [[0.5192307  0.7628205  0.798077   0.49038458 0.31089747 0.16666663\n",
            "   0.30448723 0.34294868 0.25961542 0.34935904 0.48397434 0.5192307 ]]\n",
            "\n",
            " [[0.7628205  0.798077   0.49038458 0.31089747 0.16666663 0.30448723\n",
            "   0.34294868 0.25961542 0.34935904 0.48397434 0.5192307  0.72115386]]\n",
            "\n",
            " [[0.798077   0.49038458 0.31089747 0.16666663 0.30448723 0.34294868\n",
            "   0.25961542 0.34935904 0.48397434 0.5192307  0.72115386 1.        ]]\n",
            "\n",
            " [[0.49038458 0.31089747 0.16666663 0.30448723 0.34294868 0.25961542\n",
            "   0.34935904 0.48397434 0.5192307  0.72115386 1.         0.94871795]]\n",
            "\n",
            " [[0.31089747 0.16666663 0.30448723 0.34294868 0.25961542 0.34935904\n",
            "   0.48397434 0.5192307  0.72115386 1.         0.94871795 0.6346154 ]]\n",
            "\n",
            " [[0.16666663 0.30448723 0.34294868 0.25961542 0.34935904 0.48397434\n",
            "   0.5192307  0.72115386 1.         0.94871795 0.6346154  0.48397434]]]\n",
            "[0.7628205  0.798077   0.49038458 0.31089747 0.16666663 0.30448723\n",
            " 0.34294868 0.25961542 0.34935904 0.48397434 0.5192307  0.72115386\n",
            " 1.         0.94871795 0.6346154  0.48397434 0.25641024]\n"
          ],
          "name": "stdout"
        }
      ]
    },
    {
      "cell_type": "markdown",
      "metadata": {
        "id": "0AlakqA_vuFb"
      },
      "source": [
        "### 1.2 - Build the RNN model (20 Points) ##\n",
        "\n",
        "\n",
        "Build an RNN model with SimpleRNN cell. \n",
        "\n",
        "**Tasks:**\n",
        "1. Build an RNN model with 1 RNN layer and 1 Dense layer.  **(10 Points)**\n",
        "2. Compile the model. **(5 Points)**\n",
        "3. Train the model for 100 epochs with **batch_size = 10**. **(5 Points)**\n",
        "\n",
        "**Hints:**  \n",
        "1. You may consider **tensorflow.keras.layers.SimpleRNN(unit_size=4)** to specify RNN cells.\n",
        "2. Use loss function = 'mean_squared_error' and select **Adam** optimizer with **learning_rate=0.01** and other default settings.\n",
        "3. After first epoch, the train loss is changed to around **0.0656**. \n"
      ]
    },
    {
      "cell_type": "code",
      "metadata": {
        "id": "Jn92qh8oyq0B"
      },
      "source": [
        "### Build the RNN Model ###\n",
        "import keras\n",
        "from keras.models import Sequential\n",
        "\n",
        "keras.backend.clear_session()\n",
        "\n",
        "model = Sequential() # Declare Sequential class and assign it to variable \"model\"\n",
        "model.add(keras.layers.SimpleRNN(units = 4)) # Add a simple RNN layer with unit_size=4 in the model \n",
        "model.add(keras.layers.Dense(units = 1)) # Add a following Dense layer with units=1 in the model \n"
      ],
      "execution_count": null,
      "outputs": []
    },
    {
      "cell_type": "code",
      "metadata": {
        "id": "GnO-5WT-3hgH"
      },
      "source": [
        "### Compile the RNN model ###\n",
        "\n",
        "opt = keras.optimizers.Adam(learning_rate=0.01)\n",
        "model.compile(loss = 'mean_squared_error', optimizer = opt) # model compiled with mean_squared_error loss and adam optimizer"
      ],
      "execution_count": null,
      "outputs": []
    },
    {
      "cell_type": "code",
      "metadata": {
        "id": "6tpZAutlzify",
        "colab": {
          "base_uri": "https://localhost:8080/"
        },
        "outputId": "197a8118-9fee-42ce-87f6-4745031bc0fd"
      },
      "source": [
        "### Train the RNN model and PRINT OUT MODEL STRUCTURE with model.summary() ###\n",
        "\n",
        "model.fit(trainX, trainY, epochs=100, batch_size=10, verbose=2) # model fit with epoch=100, batch_size=10; verbose=2 is optional.\n",
        "model.summary() # print out model structure with model.summary()"
      ],
      "execution_count": null,
      "outputs": [
        {
          "output_type": "stream",
          "text": [
            "Epoch 1/100\n",
            "11/11 - 0s - loss: 0.0656\n",
            "Epoch 2/100\n",
            "11/11 - 0s - loss: 0.0340\n",
            "Epoch 3/100\n",
            "11/11 - 0s - loss: 0.0215\n",
            "Epoch 4/100\n",
            "11/11 - 0s - loss: 0.0144\n",
            "Epoch 5/100\n",
            "11/11 - 0s - loss: 0.0125\n",
            "Epoch 6/100\n",
            "11/11 - 0s - loss: 0.0115\n",
            "Epoch 7/100\n",
            "11/11 - 0s - loss: 0.0092\n",
            "Epoch 8/100\n",
            "11/11 - 0s - loss: 0.0080\n",
            "Epoch 9/100\n",
            "11/11 - 0s - loss: 0.0068\n",
            "Epoch 10/100\n",
            "11/11 - 0s - loss: 0.0056\n",
            "Epoch 11/100\n",
            "11/11 - 0s - loss: 0.0047\n",
            "Epoch 12/100\n",
            "11/11 - 0s - loss: 0.0055\n",
            "Epoch 13/100\n",
            "11/11 - 0s - loss: 0.0035\n",
            "Epoch 14/100\n",
            "11/11 - 0s - loss: 0.0035\n",
            "Epoch 15/100\n",
            "11/11 - 0s - loss: 0.0034\n",
            "Epoch 16/100\n",
            "11/11 - 0s - loss: 0.0037\n",
            "Epoch 17/100\n",
            "11/11 - 0s - loss: 0.0028\n",
            "Epoch 18/100\n",
            "11/11 - 0s - loss: 0.0029\n",
            "Epoch 19/100\n",
            "11/11 - 0s - loss: 0.0029\n",
            "Epoch 20/100\n",
            "11/11 - 0s - loss: 0.0029\n",
            "Epoch 21/100\n",
            "11/11 - 0s - loss: 0.0022\n",
            "Epoch 22/100\n",
            "11/11 - 0s - loss: 0.0022\n",
            "Epoch 23/100\n",
            "11/11 - 0s - loss: 0.0020\n",
            "Epoch 24/100\n",
            "11/11 - 0s - loss: 0.0024\n",
            "Epoch 25/100\n",
            "11/11 - 0s - loss: 0.0027\n",
            "Epoch 26/100\n",
            "11/11 - 0s - loss: 0.0019\n",
            "Epoch 27/100\n",
            "11/11 - 0s - loss: 0.0019\n",
            "Epoch 28/100\n",
            "11/11 - 0s - loss: 0.0018\n",
            "Epoch 29/100\n",
            "11/11 - 0s - loss: 0.0018\n",
            "Epoch 30/100\n",
            "11/11 - 0s - loss: 0.0017\n",
            "Epoch 31/100\n",
            "11/11 - 0s - loss: 0.0016\n",
            "Epoch 32/100\n",
            "11/11 - 0s - loss: 0.0015\n",
            "Epoch 33/100\n",
            "11/11 - 0s - loss: 0.0015\n",
            "Epoch 34/100\n",
            "11/11 - 0s - loss: 0.0015\n",
            "Epoch 35/100\n",
            "11/11 - 0s - loss: 0.0016\n",
            "Epoch 36/100\n",
            "11/11 - 0s - loss: 0.0019\n",
            "Epoch 37/100\n",
            "11/11 - 0s - loss: 0.0019\n",
            "Epoch 38/100\n",
            "11/11 - 0s - loss: 0.0018\n",
            "Epoch 39/100\n",
            "11/11 - 0s - loss: 0.0019\n",
            "Epoch 40/100\n",
            "11/11 - 0s - loss: 0.0016\n",
            "Epoch 41/100\n",
            "11/11 - 0s - loss: 0.0015\n",
            "Epoch 42/100\n",
            "11/11 - 0s - loss: 0.0014\n",
            "Epoch 43/100\n",
            "11/11 - 0s - loss: 0.0014\n",
            "Epoch 44/100\n",
            "11/11 - 0s - loss: 0.0020\n",
            "Epoch 45/100\n",
            "11/11 - 0s - loss: 0.0017\n",
            "Epoch 46/100\n",
            "11/11 - 0s - loss: 0.0016\n",
            "Epoch 47/100\n",
            "11/11 - 0s - loss: 0.0016\n",
            "Epoch 48/100\n",
            "11/11 - 0s - loss: 0.0017\n",
            "Epoch 49/100\n",
            "11/11 - 0s - loss: 0.0016\n",
            "Epoch 50/100\n",
            "11/11 - 0s - loss: 0.0014\n",
            "Epoch 51/100\n",
            "11/11 - 0s - loss: 0.0016\n",
            "Epoch 52/100\n",
            "11/11 - 0s - loss: 0.0020\n",
            "Epoch 53/100\n",
            "11/11 - 0s - loss: 0.0014\n",
            "Epoch 54/100\n",
            "11/11 - 0s - loss: 0.0013\n",
            "Epoch 55/100\n",
            "11/11 - 0s - loss: 0.0013\n",
            "Epoch 56/100\n",
            "11/11 - 0s - loss: 0.0013\n",
            "Epoch 57/100\n",
            "11/11 - 0s - loss: 0.0013\n",
            "Epoch 58/100\n",
            "11/11 - 0s - loss: 0.0013\n",
            "Epoch 59/100\n",
            "11/11 - 0s - loss: 0.0022\n",
            "Epoch 60/100\n",
            "11/11 - 0s - loss: 0.0035\n",
            "Epoch 61/100\n",
            "11/11 - 0s - loss: 0.0016\n",
            "Epoch 62/100\n",
            "11/11 - 0s - loss: 0.0013\n",
            "Epoch 63/100\n",
            "11/11 - 0s - loss: 0.0013\n",
            "Epoch 64/100\n",
            "11/11 - 0s - loss: 0.0013\n",
            "Epoch 65/100\n",
            "11/11 - 0s - loss: 0.0013\n",
            "Epoch 66/100\n",
            "11/11 - 0s - loss: 0.0015\n",
            "Epoch 67/100\n",
            "11/11 - 0s - loss: 0.0018\n",
            "Epoch 68/100\n",
            "11/11 - 0s - loss: 0.0017\n",
            "Epoch 69/100\n",
            "11/11 - 0s - loss: 0.0023\n",
            "Epoch 70/100\n",
            "11/11 - 0s - loss: 0.0024\n",
            "Epoch 71/100\n",
            "11/11 - 0s - loss: 0.0013\n",
            "Epoch 72/100\n",
            "11/11 - 0s - loss: 0.0014\n",
            "Epoch 73/100\n",
            "11/11 - 0s - loss: 0.0013\n",
            "Epoch 74/100\n",
            "11/11 - 0s - loss: 0.0013\n",
            "Epoch 75/100\n",
            "11/11 - 0s - loss: 0.0012\n",
            "Epoch 76/100\n",
            "11/11 - 0s - loss: 0.0013\n",
            "Epoch 77/100\n",
            "11/11 - 0s - loss: 0.0013\n",
            "Epoch 78/100\n",
            "11/11 - 0s - loss: 0.0014\n",
            "Epoch 79/100\n",
            "11/11 - 0s - loss: 0.0016\n",
            "Epoch 80/100\n",
            "11/11 - 0s - loss: 0.0014\n",
            "Epoch 81/100\n",
            "11/11 - 0s - loss: 0.0012\n",
            "Epoch 82/100\n",
            "11/11 - 0s - loss: 0.0012\n",
            "Epoch 83/100\n",
            "11/11 - 0s - loss: 0.0014\n",
            "Epoch 84/100\n",
            "11/11 - 0s - loss: 0.0020\n",
            "Epoch 85/100\n",
            "11/11 - 0s - loss: 0.0020\n",
            "Epoch 86/100\n",
            "11/11 - 0s - loss: 0.0014\n",
            "Epoch 87/100\n",
            "11/11 - 0s - loss: 0.0013\n",
            "Epoch 88/100\n",
            "11/11 - 0s - loss: 0.0012\n",
            "Epoch 89/100\n",
            "11/11 - 0s - loss: 0.0011\n",
            "Epoch 90/100\n",
            "11/11 - 0s - loss: 0.0011\n",
            "Epoch 91/100\n",
            "11/11 - 0s - loss: 0.0016\n",
            "Epoch 92/100\n",
            "11/11 - 0s - loss: 0.0017\n",
            "Epoch 93/100\n",
            "11/11 - 0s - loss: 0.0016\n",
            "Epoch 94/100\n",
            "11/11 - 0s - loss: 0.0013\n",
            "Epoch 95/100\n",
            "11/11 - 0s - loss: 0.0012\n",
            "Epoch 96/100\n",
            "11/11 - 0s - loss: 0.0015\n",
            "Epoch 97/100\n",
            "11/11 - 0s - loss: 0.0016\n",
            "Epoch 98/100\n",
            "11/11 - 0s - loss: 0.0012\n",
            "Epoch 99/100\n",
            "11/11 - 0s - loss: 0.0015\n",
            "Epoch 100/100\n",
            "11/11 - 0s - loss: 0.0021\n",
            "Model: \"sequential\"\n",
            "_________________________________________________________________\n",
            "Layer (type)                 Output Shape              Param #   \n",
            "=================================================================\n",
            "simple_rnn (SimpleRNN)       (None, 4)                 68        \n",
            "_________________________________________________________________\n",
            "dense (Dense)                (None, 1)                 5         \n",
            "=================================================================\n",
            "Total params: 73\n",
            "Trainable params: 73\n",
            "Non-trainable params: 0\n",
            "_________________________________________________________________\n"
          ],
          "name": "stdout"
        }
      ]
    },
    {
      "cell_type": "markdown",
      "metadata": {
        "id": "Dd2jZl4n0H8m"
      },
      "source": [
        "### 1.3 Evaluate Predictive Model Performance (10 Points)\n",
        "\n",
        "Predict datapoints with the observed datapoints and trained model. \n",
        "\n",
        "**Tasks:**\n",
        "1. Do direct prediction on train and test datapoints with the obtained model in section 1.2. **(2 Points)**\n",
        "2. Scale the prediction results back to original representation with the scaler. **(3 Points)**\n",
        "3. Calculate root mean squared error (RMSE) and **print out** the error for **both TRAIN and TEST**. **(3 Points)**\n",
        "4. **Plot** the **TEST** label and prediction. **(2 Points)**\n",
        "\n",
        "\n",
        "**Hints:**  \n",
        "1. Scale back the predictions with the build-in function \"scaler.inverse_transform\".\\\n",
        "https://scikit-learn.org/stable/modules/generated/sklearn.preprocessing.MinMaxScaler.html#sklearn.preprocessing.MinMaxScaler.inverse_transform\n",
        "2. For validation: Train Score: **~13 RMSE** Test Score: **~19 RMSE**\n",
        "3. The plot for validation is shown below (observation test data are blue and prediction results are orange):\n",
        "![image.png](attachment:image.png)"
      ]
    },
    {
      "cell_type": "code",
      "metadata": {
        "id": "KNEkAMxnz8Mq"
      },
      "source": [
        "### Make Predictions ###\n",
        "\n",
        "trainPredict = model.predict(trainX)\n",
        "testPredict = model.predict(testX)\n"
      ],
      "execution_count": null,
      "outputs": []
    },
    {
      "cell_type": "code",
      "metadata": {
        "id": "LbnRqEv9z-he"
      },
      "source": [
        "### Scale Back Predictions ###\n",
        "\n",
        "trainPredict = scaler.inverse_transform(trainPredict) # scale train prediction back with scaler.inverse_transform()\n",
        "trainY = scaler.inverse_transform([trainY])  # scale train labels back with scaler.inverse_transform()\n",
        "\n",
        "testPredict = scaler.inverse_transform(testPredict) # scale test prediction back with scaler.inverse_transform()\n",
        "testY = scaler.inverse_transform([testY]) # scale test labels back with scaler.inverse_transform()\n"
      ],
      "execution_count": null,
      "outputs": []
    },
    {
      "cell_type": "code",
      "metadata": {
        "id": "xdBWzmE91G6_",
        "colab": {
          "base_uri": "https://localhost:8080/"
        },
        "outputId": "f72179d8-9467-479b-a737-7fd00672f35b"
      },
      "source": [
        "### Calculate Root Mean Squared Error (RMSE) ###\n",
        "import math\n",
        "from sklearn.metrics import mean_squared_error # Import mean_squared_error from sklearn.metrics\n",
        "\n",
        "trainScore = math.sqrt(mean_squared_error(trainY[0], trainPredict[:,0])) \n",
        "testScore = math.sqrt(mean_squared_error(testY[0], testPredict[:,0])) \n",
        "print('Train Score: %.2f RMSE' % (trainScore))\n",
        "print('Test Score: %.2f RMSE' % (testScore))"
      ],
      "execution_count": null,
      "outputs": [
        {
          "output_type": "stream",
          "text": [
            "Train Score: 13.03 RMSE\n",
            "Test Score: 19.02 RMSE\n"
          ],
          "name": "stdout"
        }
      ]
    },
    {
      "cell_type": "code",
      "metadata": {
        "id": "txdu8q7l1aju",
        "colab": {
          "base_uri": "https://localhost:8080/",
          "height": 283
        },
        "outputId": "5df3dd5c-7571-44f8-9608-cde8bfee31eb"
      },
      "source": [
        "### Plot Baseline and Predictions ###\n",
        "import matplotlib.pyplot as plt\n",
        "\n",
        "plt.plot(testY[0]) \n",
        "plt.plot(testPredict)"
      ],
      "execution_count": null,
      "outputs": [
        {
          "output_type": "execute_result",
          "data": {
            "text/plain": [
              "[<matplotlib.lines.Line2D at 0x7f002217ec88>]"
            ]
          },
          "metadata": {
            "tags": []
          },
          "execution_count": 24
        },
        {
          "output_type": "display_data",
          "data": {
            "image/png": "[encoded data removed]",
            "text/plain": [
              "<Figure size 432x288 with 1 Axes>"
            ]
          },
          "metadata": {
            "tags": [],
            "needs_background": "light"
          }
        }
      ]
    },
    {
      "cell_type": "markdown",
      "metadata": {
        "id": "O49Ug-FhtCg8"
      },
      "source": [
        "## 2 - Build an LSTM model to conduct sentiment analysis ##\n",
        "\n",
        "### 2.1 Prepare the data (13 Points) ###\n",
        "\n",
        "Prepare IMDB data for reccurent neural network training.\n",
        "\n",
        "**Tasks:**\n",
        "1. Load the data from IMDB review dataset and **print out** the lengths of sequences. **(3 Points)**\n",
        "2. Preprocess review data to meet the network input requirement by specifying **number of words=1000**, setting **the analysis length of the review = 100**, and **padding the input sequences**. **(10 Points)**\n",
        "\n",
        "**Hints:**  \n",
        "1. You may load the IMDB data with keras.datasets.imdb.load_data(num_words=max_features). Here. max_features is set to **1000**.\n",
        "2. You may use keras.preprocessing.sequence.pad_sequences(x_train, maxlen) to pad the input sequences and set maxlen to **100**.\n",
        "\n",
        "**Note:**\\\n",
        "We train the built LSTM-based model with ALL training data; the **validation set** (aka **development set**) is set with the **testing set** for model evaluation. This split is common in the application with limited sampled observation data, like NLP problems.\n"
      ]
    },
    {
      "cell_type": "code",
      "metadata": {
        "id": "UI4ki461S2V3"
      },
      "source": [
        "import tensorflow as tf\n",
        "import tensorflow.keras as keras\n",
        "from keras import layers\n",
        "import random\n",
        "import numpy as np\n",
        "\n",
        "\n",
        "### Set random seed to ensure deterministic results\n",
        "import os\n",
        "seed_value = 1\n",
        "os.environ['PYTHONHASHSEED']=str(seed_value)\n",
        "def reset_random_seeds():\n",
        "   tf.random.set_seed(seed_value)\n",
        "   np.random.seed(seed_value)\n",
        "   random.seed(seed_value)\n",
        "\n",
        "reset_random_seeds() # randomly set initial data"
      ],
      "execution_count": 6,
      "outputs": []
    },
    {
      "cell_type": "code",
      "metadata": {
        "id": "LvV1Sv2a18SM",
        "colab": {
          "base_uri": "https://localhost:8080/"
        },
        "outputId": "3bf7f3ba-a2e9-4a6f-e3b8-270d0696c065"
      },
      "source": [
        "# Prepare the data here\n",
        "\n",
        "max_features = 1000 # Only consider the top 1k words\n",
        "maxlen = 100 # Only consider the first 100 words of each movie review\n",
        "\n",
        "(x_train, y_train), (x_val, y_val) = keras.datasets.imdb.load_data(num_words = max_features) # load IMDB data with specified num_words = 1000; testing set is set to validation set.\n",
        "print(len(x_train), \"Training sequences\")\n",
        "print(len(x_val), \"Validation sequences\")\n",
        "x_train = keras.preprocessing.sequence.pad_sequences(x_train, maxlen) # Pad IMDB training data with specified maxlen=100\n",
        "x_val = keras.preprocessing.sequence.pad_sequences(x_val, maxlen) # Pad IMDB validation data with specified maxlen=100\n",
        "\n"
      ],
      "execution_count": 7,
      "outputs": [
        {
          "output_type": "stream",
          "text": [
            "25000 Training sequences\n",
            "25000 Validation sequences\n"
          ],
          "name": "stdout"
        }
      ]
    },
    {
      "cell_type": "markdown",
      "metadata": {
        "id": "v_JFQeWK18SR"
      },
      "source": [
        "### 2.2 - Design and train LSTM model (25 Points) ###\n",
        "\n",
        "Build an LSTM model.\n",
        "\n",
        "**Tasks:**\n",
        "1. Build the LSTM model with **1 embedding layer**, **1 LSTM layer**, and **1 Dense layer**. **Print out** model summary. The embedding vector is specified with the dimension of **8**. **(10 Points)**\n",
        "2. Compile the LSTM model with **Adam** optimizer, **binary_crossentropy** loss function, and **accuracy** metrics. **(5 Points)**  \n",
        "3. Train the LSTM model with **batch_size=64 for 10 epochs** and report **training and validation accuracies over epochs**. **(5 Points)**\n",
        "4. **Print out** best validation accuracy. **(5 Points)**\n",
        "\n",
        "\n",
        "\n",
        "**Hints:**  \n",
        "1. Set input dimension to **1000** and output dimension to **8** for embedding layer.\n",
        "2. Set **unit_size=8** for LSTM layer.\n",
        "3. Set activation function to **sigmoid** for Dense layer.\n",
        "4. For validation: the outputs for first epoch should be close to（but maybe not exactly following） the statistics below:\\\n",
        "**loss: ~0.5675 - accuracy: ~0.7072 - val_loss: ~0.4549 - val_accuracy: ~0.8020**\n",
        "\n",
        "**Useful Reference:**\n",
        "1. https://keras.io/examples/nlp/bidirectional_lstm_imdb/"
      ]
    },
    {
      "cell_type": "code",
      "metadata": {
        "id": "UDqqgFt118SS",
        "colab": {
          "base_uri": "https://localhost:8080/"
        },
        "outputId": "7f255b52-fe18-41ee-84f1-97fc56c7843f"
      },
      "source": [
        "### Model design with Embedding and LSTM layers ####\n",
        "inputs = keras.Input(shape=(None,), dtype=\"int32\") # This is an easy way to set an adaptive length for input sequence\n",
        "x = layers.Embedding(max_features, 8)(inputs) # Embed data in an 8-dimensional vector\n",
        "x = layers.LSTM(units = 8)(x) # Add 1st layer of LSTM with 8 hidden states (aka units)\n",
        "outputs = layers.Dense(units = 1, activation=\"sigmoid\")(x) # Add a classifier with units=1 and activation=\"sigmoid\"\n",
        "\n",
        "### Clear cached model to refresh memory and build new model for training ###\n",
        "keras.backend.clear_session() # Clear cached model\n",
        "model = keras.Model(inputs, outputs) # Build new keras model\n",
        "model.summary() # Print out model summary\n",
        "\n",
        "model.compile(\"adam\", \"binary_crossentropy\", metrics=[\"accuracy\"]) # Compile built model with \"adam\", \"binary_crossentropy\", and metrics=[\"accuracy\"]\n",
        "history = model.fit(x_train, y_train, epochs=10, batch_size=64, validation_data=(x_val, y_val)) # Train the compiled model with model.fit()\n",
        "\n",
        "maxAcc = max(history.history['accuracy'])\n",
        "print(\"Best Accuracy: \", maxAcc)"
      ],
      "execution_count": 18,
      "outputs": [
        {
          "output_type": "stream",
          "text": [
            "Model: \"functional_1\"\n",
            "_________________________________________________________________\n",
            "Layer (type)                 Output Shape              Param #   \n",
            "=================================================================\n",
            "input_1 (InputLayer)         [(None, None)]            0         \n",
            "_________________________________________________________________\n",
            "embedding (Embedding)        (None, None, 8)           8000      \n",
            "_________________________________________________________________\n",
            "lstm (LSTM)                  (None, 8)                 544       \n",
            "_________________________________________________________________\n",
            "dense (Dense)                (None, 1)                 9         \n",
            "=================================================================\n",
            "Total params: 8,553\n",
            "Trainable params: 8,553\n",
            "Non-trainable params: 0\n",
            "_________________________________________________________________\n",
            "Epoch 1/10\n",
            "391/391 [==============================] - 16s 41ms/step - loss: 0.5705 - accuracy: 0.6986 - val_loss: 0.4614 - val_accuracy: 0.7977\n",
            "Epoch 2/10\n",
            "391/391 [==============================] - 16s 40ms/step - loss: 0.4294 - accuracy: 0.8108 - val_loss: 0.4164 - val_accuracy: 0.8135\n",
            "Epoch 3/10\n",
            "391/391 [==============================] - 16s 41ms/step - loss: 0.3918 - accuracy: 0.8297 - val_loss: 0.3908 - val_accuracy: 0.8262\n",
            "Epoch 4/10\n",
            "391/391 [==============================] - 16s 40ms/step - loss: 0.3722 - accuracy: 0.8372 - val_loss: 0.3845 - val_accuracy: 0.8265\n",
            "Epoch 5/10\n",
            "391/391 [==============================] - 16s 41ms/step - loss: 0.3611 - accuracy: 0.8437 - val_loss: 0.3827 - val_accuracy: 0.8266\n",
            "Epoch 6/10\n",
            "391/391 [==============================] - 16s 40ms/step - loss: 0.3567 - accuracy: 0.8444 - val_loss: 0.4127 - val_accuracy: 0.8220\n",
            "Epoch 7/10\n",
            "391/391 [==============================] - 16s 41ms/step - loss: 0.3483 - accuracy: 0.8476 - val_loss: 0.3723 - val_accuracy: 0.8318\n",
            "Epoch 8/10\n",
            "391/391 [==============================] - 16s 41ms/step - loss: 0.3422 - accuracy: 0.8505 - val_loss: 0.3722 - val_accuracy: 0.8316\n",
            "Epoch 9/10\n",
            "391/391 [==============================] - 16s 41ms/step - loss: 0.3340 - accuracy: 0.8531 - val_loss: 0.3845 - val_accuracy: 0.8318\n",
            "Epoch 10/10\n",
            "391/391 [==============================] - 16s 41ms/step - loss: 0.3294 - accuracy: 0.8554 - val_loss: 0.3783 - val_accuracy: 0.8315\n",
            "Best Accuracy:  0.8553599715232849\n"
          ],
          "name": "stdout"
        }
      ]
    },
    {
      "cell_type": "markdown",
      "metadata": {
        "id": "0vqvy2tdEw7J"
      },
      "source": [
        "### 2.3 - LSTM hyperparameter tuning (Bonus 15 Points) ###\n",
        "\n",
        "Boost the performance of obtained LSTM (aka vanilla model) by hyperparameter tuning.\n",
        "\n",
        "**Tasks:**\n",
        "- All modificiations are directly conducted based on the vanilla model above (from 2.2).\n",
        "- For each scenario, **report <span style=\"color:red\"> BEST Validation Accuracy </span> and generate Training/Validation <span style=\"color:red\"> Accuracy plots over epochs</span>**. You may just paste the plot figures in the cells with **Markdown mode**. Make sure it is correctly shown after jupyter notebook run the cell.\n",
        "1.  Scenario 1 (**5 points**):\n",
        "    - Add one additional LSTM layer (totally 2 LSTM layers).\n",
        "    - Modify the embedding dimension to 16.\n",
        "    - Modify the units of LSTM to 16.\n",
        "2. Scenario 2 (**5 points**)\n",
        "    - Add one additional LSTM layer (totally 2 LSTM layers).\n",
        "    - Modify the embedding dimension to 128.\n",
        "    - Modify the units of LSTM to 128.\n",
        "3. Scenario 3 (**5 points**)\n",
        "    - Add one additional LSTM layer (totally 2 LSTM layers).\n",
        "    - Modify the embedding dimension to 128.\n",
        "    - Modify the units of LSTM to 128.\n",
        "    - Increase analysis length for review data to maxlen = 200\n",
        "\n",
        "**Hints:**  \n",
        "For validation: the outputs for first epoch should be close to（but maybe not exactly following） the statistics below:\n",
        "- Scenario 1: **loss: ~0.4968 - accuracy: ~0.7450 - val_loss: ~0.4079 - val_accuracy: ~0.8198**\n",
        "- Scenario 2: **loss: ~0.4764 - accuracy: ~0.7670 - val_loss: ~0.4133 - val_accuracy: ~0.8179**\n",
        "- Scenario 3: **loss: ~0.4819 - accuracy: ~0.7644 - val_loss: ~0.4031 - val_accuracy: ~0.8105**\n",
        "\n",
        "You may follow the example from the reference below to add additional LSTM layer.\n",
        "\n",
        "**Useful Reference:**\n",
        "1. https://keras.io/examples/nlp/bidirectional_lstm_imdb/  "
      ]
    },
    {
      "cell_type": "code",
      "metadata": {
        "id": "Keod5xXkEKnx",
        "colab": {
          "base_uri": "https://localhost:8080/"
        },
        "outputId": "a9788c28-f151-468d-d600-8e09b05a7196"
      },
      "source": [
        "########################### Scenario 1 ###########################\n",
        "##################################################################\n",
        "\n",
        "### Set random seed to ensure deterministic results ###\n",
        "import os\n",
        "seed_value = 1\n",
        "os.environ['PYTHONHASHSEED']=str(seed_value)\n",
        "def reset_random_seeds():\n",
        "   tf.random.set_seed(seed_value)\n",
        "   np.random.seed(seed_value)\n",
        "   random.seed(seed_value)\n",
        "\n",
        "reset_random_seeds() # randomly set initial data\n",
        "\n",
        "max_features = 1000 # Only consider the top 1k words\n",
        "maxlen = 100 # Only consider the first 100 words of each movie review\n",
        "\n",
        "### Model design with Embedding and LSTM layers ####\n",
        "inputs = keras.Input(shape=(None,), dtype=\"int32\") # This is an easy way to set an adaptive length for input sequence\n",
        "x = layers.Embedding(max_features, 16)(inputs) # Embed data in a 16-dimensional vector\n",
        "x = layers.LSTM(units = 16, return_sequences=True)(x) # Add 1st layer of LSTM with 16 hidden states (aka units); set return_sequences=true.\n",
        "x = layers.LSTM(units = 16)(x) # Add 2nd layer of LSTM with 16 hidden states (aka units)\n",
        "outputs = layers.Dense(units = 1, activation=\"sigmoid\")(x) # Add a classifier with units=1 and activation=\"sigmoid\"\n",
        "\n",
        "### Clear cached model to refresh memory and build new model for training ###\n",
        "keras.backend.clear_session() # Clear cached model\n",
        "model = keras.Model(inputs, outputs) # Build new keras model\n",
        "model.summary() # Print out model summary\n",
        "\n",
        "model.compile(\"adam\", \"binary_crossentropy\", metrics=[\"accuracy\"]) # Compile built model with \"adam\", \"binary_crossentropy\", and metrics=[\"accuracy\"]\n",
        "model.fit(x_train, y_train, epochs=10, batch_size=64, validation_data=(x_val, y_val)) # Train the compiled model using model.fit() with batch_size=64, epochs=10, and validation_data=(x_val, y_val)\n"
      ],
      "execution_count": 21,
      "outputs": [
        {
          "output_type": "stream",
          "text": [
            "Model: \"functional_1\"\n",
            "_________________________________________________________________\n",
            "Layer (type)                 Output Shape              Param #   \n",
            "=================================================================\n",
            "input_2 (InputLayer)         [(None, None)]            0         \n",
            "_________________________________________________________________\n",
            "embedding_1 (Embedding)      (None, None, 16)          16000     \n",
            "_________________________________________________________________\n",
            "lstm (LSTM)                  (None, None, 16)          2112      \n",
            "_________________________________________________________________\n",
            "lstm_1 (LSTM)                (None, 16)                2112      \n",
            "_________________________________________________________________\n",
            "dense (Dense)                (None, 1)                 17        \n",
            "=================================================================\n",
            "Total params: 20,241\n",
            "Trainable params: 20,241\n",
            "Non-trainable params: 0\n",
            "_________________________________________________________________\n",
            "Epoch 1/10\n",
            "391/391 [==============================] - 35s 90ms/step - loss: 0.4968 - accuracy: 0.7450 - val_loss: 0.4079 - val_accuracy: 0.8198\n",
            "Epoch 2/10\n",
            "391/391 [==============================] - 35s 90ms/step - loss: 0.3883 - accuracy: 0.8286 - val_loss: 0.3844 - val_accuracy: 0.8242\n",
            "Epoch 3/10\n",
            "391/391 [==============================] - 35s 90ms/step - loss: 0.3688 - accuracy: 0.8382 - val_loss: 0.3692 - val_accuracy: 0.8333\n",
            "Epoch 4/10\n",
            "391/391 [==============================] - 36s 91ms/step - loss: 0.3541 - accuracy: 0.8436 - val_loss: 0.3798 - val_accuracy: 0.8257\n",
            "Epoch 5/10\n",
            "391/391 [==============================] - 35s 91ms/step - loss: 0.3446 - accuracy: 0.8464 - val_loss: 0.3665 - val_accuracy: 0.8338\n",
            "Epoch 6/10\n",
            "391/391 [==============================] - 35s 90ms/step - loss: 0.3353 - accuracy: 0.8520 - val_loss: 0.4104 - val_accuracy: 0.8247\n",
            "Epoch 7/10\n",
            "391/391 [==============================] - 35s 91ms/step - loss: 0.3257 - accuracy: 0.8540 - val_loss: 0.3680 - val_accuracy: 0.8325\n",
            "Epoch 8/10\n",
            "391/391 [==============================] - 35s 90ms/step - loss: 0.3188 - accuracy: 0.8594 - val_loss: 0.3659 - val_accuracy: 0.8334\n",
            "Epoch 9/10\n",
            "391/391 [==============================] - 36s 91ms/step - loss: 0.3110 - accuracy: 0.8602 - val_loss: 0.3800 - val_accuracy: 0.8334\n",
            "Epoch 10/10\n",
            "391/391 [==============================] - 35s 91ms/step - loss: 0.3048 - accuracy: 0.8656 - val_loss: 0.3928 - val_accuracy: 0.8343\n"
          ],
          "name": "stdout"
        },
        {
          "output_type": "execute_result",
          "data": {
            "text/plain": [
              "<tensorflow.python.keras.callbacks.History at 0x7fe1663ee588>"
            ]
          },
          "metadata": {
            "tags": []
          },
          "execution_count": 21
        }
      ]
    },
    {
      "cell_type": "markdown",
      "metadata": {
        "id": "qYMblJypVbWo"
      },
      "source": [
        "![image.png](data:image/png;base64,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)"
      ]
    },
    {
      "cell_type": "code",
      "metadata": {
        "id": "t2Bad8WiGrzP",
        "colab": {
          "base_uri": "https://localhost:8080/"
        },
        "outputId": "f43f638b-4682-43ab-8d60-1eced1633391"
      },
      "source": [
        "########################### Scenario 2 ###########################\n",
        "##################################################################\n",
        "\n",
        "### Set random seed to ensure deterministic results ###\n",
        "import os\n",
        "seed_value = 1\n",
        "os.environ['PYTHONHASHSEED']=str(seed_value)\n",
        "def reset_random_seeds():\n",
        "   tf.random.set_seed(seed_value)\n",
        "   np.random.seed(seed_value)\n",
        "   random.seed(seed_value)\n",
        "\n",
        "reset_random_seeds() # randomly set initial data\n",
        "\n",
        "max_features = 1000  # Only consider the top 1k words\n",
        "maxlen = 100  # Only consider the first 100 words of each movie review\n",
        "\n",
        "### Model design with Embedding and LSTM layers ####\n",
        "inputs = keras.Input(shape=(None,), dtype=\"int32\") # This is an easy way to set an adaptive length for input sequence\n",
        "x = layers.Embedding(max_features, 128)(inputs) # Embed data in a 128-dimensional vector\n",
        "x = layers.LSTM(units = 128, return_sequences=True)(x) # Add 1st layer of LSTM with 128 hidden states (aka units); set return_sequences=true.\n",
        "x = layers.LSTM(units = 128)(x) # Add 2nd layer of LSTM with 128 hidden states (aka units)\n",
        "outputs = layers.Dense(units = 1, activation=\"sigmoid\")(x) # Add a classifier with units=1 and activation=\"sigmoid\"\n",
        "\n",
        "### Clear cached model to refresh memory and build new model for training ###\n",
        "keras.backend.clear_session() # Clear cached model\n",
        "model = keras.Model(inputs, outputs) # Build new keras model\n",
        "model.summary() # Print out model summary\n",
        "\n",
        "model.compile(\"adam\", \"binary_crossentropy\", metrics=[\"accuracy\"]) # Compile built model with \"adam\", \"binary_crossentropy\", and metrics=[\"accuracy\"]\n",
        "model.fit(x_train, y_train, epochs=10, batch_size=64, validation_data=(x_val, y_val)) # Train the compiled model using model.fit() with batch_size=64, epochs=10, and validation_data=(x_val, y_val)"
      ],
      "execution_count": 22,
      "outputs": [
        {
          "output_type": "stream",
          "text": [
            "Model: \"functional_1\"\n",
            "_________________________________________________________________\n",
            "Layer (type)                 Output Shape              Param #   \n",
            "=================================================================\n",
            "input_1 (InputLayer)         [(None, None)]            0         \n",
            "_________________________________________________________________\n",
            "embedding (Embedding)        (None, None, 128)         128000    \n",
            "_________________________________________________________________\n",
            "lstm (LSTM)                  (None, None, 128)         131584    \n",
            "_________________________________________________________________\n",
            "lstm_1 (LSTM)                (None, 128)               131584    \n",
            "_________________________________________________________________\n",
            "dense (Dense)                (None, 1)                 129       \n",
            "=================================================================\n",
            "Total params: 391,297\n",
            "Trainable params: 391,297\n",
            "Non-trainable params: 0\n",
            "_________________________________________________________________\n",
            "Epoch 1/10\n",
            "391/391 [==============================] - 233s 597ms/step - loss: 0.4743 - accuracy: 0.7661 - val_loss: 0.3955 - val_accuracy: 0.8220\n",
            "Epoch 2/10\n",
            "391/391 [==============================] - 233s 597ms/step - loss: 0.3813 - accuracy: 0.8316 - val_loss: 0.3756 - val_accuracy: 0.8325\n",
            "Epoch 3/10\n",
            "391/391 [==============================] - 234s 598ms/step - loss: 0.3550 - accuracy: 0.8413 - val_loss: 0.3641 - val_accuracy: 0.8360\n",
            "Epoch 4/10\n",
            "391/391 [==============================] - 246s 629ms/step - loss: 0.3312 - accuracy: 0.8560 - val_loss: 0.3683 - val_accuracy: 0.8398\n",
            "Epoch 5/10\n",
            "391/391 [==============================] - 246s 629ms/step - loss: 0.3113 - accuracy: 0.8665 - val_loss: 0.3551 - val_accuracy: 0.8456\n",
            "Epoch 6/10\n",
            "391/391 [==============================] - 246s 630ms/step - loss: 0.3043 - accuracy: 0.8695 - val_loss: 0.3761 - val_accuracy: 0.8404\n",
            "Epoch 7/10\n",
            "391/391 [==============================] - 246s 630ms/step - loss: 0.2840 - accuracy: 0.8796 - val_loss: 0.3872 - val_accuracy: 0.8234\n",
            "Epoch 8/10\n",
            "391/391 [==============================] - 243s 622ms/step - loss: 0.2768 - accuracy: 0.8830 - val_loss: 0.3720 - val_accuracy: 0.8424\n",
            "Epoch 9/10\n",
            "391/391 [==============================] - 246s 630ms/step - loss: 0.2473 - accuracy: 0.8981 - val_loss: 0.3896 - val_accuracy: 0.8343\n",
            "Epoch 10/10\n",
            "391/391 [==============================] - 246s 628ms/step - loss: 0.2314 - accuracy: 0.9041 - val_loss: 0.3910 - val_accuracy: 0.8411\n"
          ],
          "name": "stdout"
        },
        {
          "output_type": "execute_result",
          "data": {
            "text/plain": [
              "<tensorflow.python.keras.callbacks.History at 0x7fe166a89748>"
            ]
          },
          "metadata": {
            "tags": []
          },
          "execution_count": 22
        }
      ]
    },
    {
      "cell_type": "markdown",
      "metadata": {
        "id": "HfltoGiVVUS3"
      },
      "source": [
        "![image.png](data:image/png;base64,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)"
      ]
    },
    {
      "cell_type": "code",
      "metadata": {
        "colab": {
          "base_uri": "https://localhost:8080/"
        },
        "id": "yzuDOsOaGrzP",
        "outputId": "bdf09e65-3f20-4370-8ae9-5a860de5c001"
      },
      "source": [
        "########################### Scenario 3 ###########################\n",
        "##################################################################\n",
        "\n",
        "### Set random seed to ensure deterministic results ###\n",
        "import os\n",
        "seed_value = 1\n",
        "os.environ['PYTHONHASHSEED']=str(seed_value)\n",
        "def reset_random_seeds():\n",
        "   tf.random.set_seed(seed_value)\n",
        "   np.random.seed(seed_value)\n",
        "   random.seed(seed_value)\n",
        "\n",
        "reset_random_seeds() # randomly set initial data\n",
        "\n",
        "max_features = 1000  # Only consider the top 1k words\n",
        "maxlen = 200 # Only consider the first 200 words of each movie review\n",
        "\n",
        "### Model design with Embedding and LSTM layers ####\n",
        "inputs = keras.Input(shape=(None,), dtype=\"int32\") # This is an easy way to set an adaptive length for input sequence\n",
        "x = layers.Embedding(max_features, 128)(inputs) # Embed data in a 128-dimensional vector\n",
        "x = layers.LSTM(units = 128, return_sequences=True)(x) # Add 1st layer of LSTM with 128 hidden states (aka units); set return_sequences=true.\n",
        "x = layers.LSTM(units = 128)(x) # Add 2nd layer of LSTM with 128 hidden states (aka units)\n",
        "outputs = layers.Dense(units = 1, activation=\"sigmoid\")(x) # Add a classifier with units=1 and activation=\"sigmoid\"\n",
        "\n",
        "### Clear cached model to refresh memory and build new model for training ###\n",
        "keras.backend.clear_session() # Clear cached model\n",
        "model = keras.Model(inputs, outputs) # Build new keras model\n",
        "model.summary() # Print out model summary\n",
        "\n",
        "model.compile(\"adam\", \"binary_crossentropy\", metrics=[\"accuracy\"]) # Compile built model with \"adam\", \"binary_crossentropy\", and metrics=[\"accuracy\"]\n",
        "model.fit(x_train, y_train, epochs=10, batch_size=64, validation_data=(x_val, y_val)) # Train the compiled model using model.fit() with batch_size=64, epochs=10, and validation_data=(x_val, y_val)"
      ],
      "execution_count": 26,
      "outputs": [
        {
          "output_type": "stream",
          "text": [
            "Model: \"functional_1\"\n",
            "_________________________________________________________________\n",
            "Layer (type)                 Output Shape              Param #   \n",
            "=================================================================\n",
            "input_1 (InputLayer)         [(None, None)]            0         \n",
            "_________________________________________________________________\n",
            "embedding (Embedding)        (None, None, 128)         128000    \n",
            "_________________________________________________________________\n",
            "lstm (LSTM)                  (None, None, 128)         131584    \n",
            "_________________________________________________________________\n",
            "lstm_1 (LSTM)                (None, 128)               131584    \n",
            "_________________________________________________________________\n",
            "dense (Dense)                (None, 1)                 129       \n",
            "=================================================================\n",
            "Total params: 391,297\n",
            "Trainable params: 391,297\n",
            "Non-trainable params: 0\n",
            "_________________________________________________________________\n",
            "Epoch 1/10\n",
            "391/391 [==============================] - 236s 603ms/step - loss: 0.4743 - accuracy: 0.7661 - val_loss: 0.3955 - val_accuracy: 0.8220\n",
            "Epoch 2/10\n",
            "391/391 [==============================] - 232s 593ms/step - loss: 0.3813 - accuracy: 0.8316 - val_loss: 0.3756 - val_accuracy: 0.8325\n",
            "Epoch 3/10\n",
            "391/391 [==============================] - 234s 600ms/step - loss: 0.3550 - accuracy: 0.8413 - val_loss: 0.3641 - val_accuracy: 0.8360\n",
            "Epoch 4/10\n",
            "391/391 [==============================] - 236s 605ms/step - loss: 0.3312 - accuracy: 0.8560 - val_loss: 0.3683 - val_accuracy: 0.8398\n",
            "Epoch 5/10\n",
            "391/391 [==============================] - 238s 609ms/step - loss: 0.3113 - accuracy: 0.8665 - val_loss: 0.3551 - val_accuracy: 0.8456\n",
            "Epoch 6/10\n",
            "391/391 [==============================] - 241s 616ms/step - loss: 0.3043 - accuracy: 0.8695 - val_loss: 0.3761 - val_accuracy: 0.8404\n",
            "Epoch 7/10\n",
            "391/391 [==============================] - 238s 608ms/step - loss: 0.2840 - accuracy: 0.8796 - val_loss: 0.3872 - val_accuracy: 0.8234\n",
            "Epoch 8/10\n",
            "391/391 [==============================] - 233s 597ms/step - loss: 0.2768 - accuracy: 0.8830 - val_loss: 0.3720 - val_accuracy: 0.8424\n",
            "Epoch 9/10\n",
            "391/391 [==============================] - 233s 595ms/step - loss: 0.2473 - accuracy: 0.8981 - val_loss: 0.3896 - val_accuracy: 0.8343\n",
            "Epoch 10/10\n",
            "391/391 [==============================] - 232s 593ms/step - loss: 0.2314 - accuracy: 0.9041 - val_loss: 0.3910 - val_accuracy: 0.8411\n"
          ],
          "name": "stdout"
        },
        {
          "output_type": "execute_result",
          "data": {
            "text/plain": [
              "<tensorflow.python.keras.callbacks.History at 0x7fe16dd0b6a0>"
            ]
          },
          "metadata": {
            "tags": []
          },
          "execution_count": 26
        }
      ]
    },
    {
      "cell_type": "markdown",
      "metadata": {
        "id": "L6p7SnjdVMyW"
      },
      "source": [
        "![image.png](data:image/png;base64,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)"
      ]
    }
  ]
}